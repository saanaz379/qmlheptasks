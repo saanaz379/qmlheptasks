{
  "nbformat": 4,
  "nbformat_minor": 0,
  "metadata": {
    "colab": {
      "name": "QMLHEP-Task1.ipynb",
      "provenance": []
    },
    "kernelspec": {
      "name": "python3",
      "display_name": "Python 3"
    },
    "language_info": {
      "name": "python"
    }
  },
  "cells": [
    {
      "cell_type": "code",
      "execution_count": null,
      "metadata": {
        "id": "SHh86aWkq-y_",
        "colab": {
          "base_uri": "https://localhost:8080/"
        },
        "outputId": "b8a164c9-0049-4e7b-f181-395b2759ed02"
      },
      "outputs": [
        {
          "output_type": "stream",
          "name": "stdout",
          "text": [
            "\u001b[K     |████████████████████████████████| 56 kB 1.1 MB/s \n",
            "\u001b[K     |████████████████████████████████| 593 kB 7.8 MB/s \n",
            "\u001b[K     |████████████████████████████████| 48 kB 4.5 MB/s \n",
            "\u001b[K     |████████████████████████████████| 1.8 MB 8.8 MB/s \n",
            "\u001b[K     |████████████████████████████████| 541 kB 38.7 MB/s \n",
            "\u001b[K     |████████████████████████████████| 52 kB 1.4 MB/s \n",
            "\u001b[K     |████████████████████████████████| 10.1 MB 36.2 MB/s \n",
            "\u001b[K     |████████████████████████████████| 145 kB 64.0 MB/s \n",
            "\u001b[K     |████████████████████████████████| 65 kB 3.3 MB/s \n",
            "\u001b[K     |████████████████████████████████| 97 kB 4.4 MB/s \n",
            "\u001b[K     |████████████████████████████████| 49 kB 5.2 MB/s \n",
            "\u001b[K     |████████████████████████████████| 53 kB 2.0 MB/s \n",
            "\u001b[K     |████████████████████████████████| 220 kB 53.5 MB/s \n",
            "\u001b[K     |████████████████████████████████| 44 kB 2.4 MB/s \n",
            "\u001b[K     |████████████████████████████████| 38.1 MB 1.3 MB/s \n",
            "\u001b[K     |████████████████████████████████| 229 kB 57.0 MB/s \n",
            "\u001b[K     |████████████████████████████████| 243 kB 53.4 MB/s \n",
            "\u001b[K     |████████████████████████████████| 1.6 MB 55.9 MB/s \n",
            "\u001b[K     |████████████████████████████████| 109 kB 45.3 MB/s \n",
            "\u001b[K     |████████████████████████████████| 546 kB 48.5 MB/s \n",
            "\u001b[?25h  Building wheel for lark (setup.py) ... \u001b[?25l\u001b[?25hdone\n",
            "  Building wheel for retrying (setup.py) ... \u001b[?25l\u001b[?25hdone\n",
            "  Building wheel for rpcq (setup.py) ... \u001b[?25l\u001b[?25hdone\n",
            "\u001b[31mERROR: pip's dependency resolver does not currently take into account all the packages that are installed. This behaviour is the source of the following dependency conflicts.\n",
            "tensorflow 2.8.0 requires tf-estimator-nightly==2.8.0.dev2021122109, which is not installed.\n",
            "markdown 3.3.6 requires importlib-metadata>=4.4; python_version < \"3.10\", but you have importlib-metadata 3.10.1 which is incompatible.\n",
            "google-colab 1.0.0 requires six~=1.15.0, but you have six 1.16.0 which is incompatible.\n",
            "datascience 0.10.6 requires folium==0.2.1, but you have folium 0.8.3 which is incompatible.\n",
            "albumentations 0.1.12 requires imgaug<0.2.7,>=0.2.5, but you have imgaug 0.2.9 which is incompatible.\u001b[0m\n"
          ]
        }
      ],
      "source": [
        "! pip install cirq --quiet"
      ]
    },
    {
      "cell_type": "code",
      "source": [
        "import cirq    # for qubits, operations, gates, and circuit\n",
        "import math    # for pi"
      ],
      "metadata": {
        "id": "-u1OX8XQrqZ8"
      },
      "execution_count": null,
      "outputs": []
    },
    {
      "cell_type": "code",
      "source": [
        "# constructing the RX gate\n",
        "RX = cirq.rx(math.pi/2)\n",
        "\n",
        "# adding the qubits to the register\n",
        "# and constructing a circuit for ops\n",
        "q_reg = [cirq.GridQubit(i,0) for i in range(5)]\n",
        "circ = cirq.Circuit()\n",
        "\n",
        "# adding operations into circuit\n",
        "circ.append(cirq.H(q) for q in q_reg)\n",
        "circ.append(cirq.CNOT(q_reg[i], q_reg[i+1]) for i in range(4))\n",
        "circ.append(cirq.SWAP(q_reg[0], q_reg[4]))\n",
        "circ.append(RX(q_reg[0]))\n",
        "print(circ)"
      ],
      "metadata": {
        "id": "8s82dBHor6c-",
        "colab": {
          "base_uri": "https://localhost:8080/"
        },
        "outputId": "c54d2a03-0e73-4169-97ab-a2e4578a458c"
      },
      "execution_count": null,
      "outputs": [
        {
          "output_type": "stream",
          "name": "stdout",
          "text": [
            "(0, 0): ───H───@───────────────×───Rx(0.5π)───\n",
            "               │               │\n",
            "(1, 0): ───H───X───@───────────┼──────────────\n",
            "                   │           │\n",
            "(2, 0): ───H───────X───@───────┼──────────────\n",
            "                       │       │\n",
            "(3, 0): ───H───────────X───@───┼──────────────\n",
            "                           │   │\n",
            "(4, 0): ───H───────────────X───×──────────────\n"
          ]
        }
      ]
    }
  ]
}